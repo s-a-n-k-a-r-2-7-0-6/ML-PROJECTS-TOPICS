{
 "cells": [
  {
   "cell_type": "markdown",
   "metadata": {
    "id": "NnPEZHzaF84c"
   },
   "source": [
    "# Multiple Linear Regression"
   ]
  },
  {
   "cell_type": "markdown",
   "metadata": {
    "id": "MAoMviwdF_dS"
   },
   "source": [
    "## Importing the libraries"
   ]
  },
  {
   "cell_type": "code",
   "execution_count": 1,
   "metadata": {
    "executionInfo": {
     "elapsed": 1311,
     "status": "ok",
     "timestamp": 1611910256089,
     "user": {
      "displayName": "Atulya Kaushik",
      "photoUrl": "https://lh3.googleusercontent.com/a-/AOh14Gh44VkWPCXPcm-gl3w36wzgNlWsl6r_eNiIJ6OMht4QNKLcdlB20mX52ms2Nz_WeiDf1P2sRzD1ZTXle1eO-LrlhdvLudzr4nZ4wlCzMLrCBdIeIj9qShGMzKWVD3uOlt61Ddk6Pqh4RIz0pD48n6nKF_azJ8w6g5Oc9ygHZJj8WnXvJ6nULa2JEekJ08637iso_GxWGokfehu8UILm2O9iE1ZcjxfCTIrxUvEGqK9RKCL0OXifYCJ8lbkd6Yl-tAIGp15KYVSYKVXBR_a5g3VZI20qPEriWHHFgf9Wj_W7MFgvWiMOMvVQiOX_gJMJ40cj8xR5aWmXPnUjh9NuxPyARpANTzgxHB7817LRfrbUSTiVcio1AfoSDlxer-bLi_I6YFCZNc9XqI6abQMs6maWAmfxVr9A80imVnjJk_LyRDF5VdlYnws70ZBqVymSVajOecosBL8cZavPB6tprpbeeDQSy4XqyqE9r9PFVHSi0xFH_jCW5pFf1bFMvN7zi9Gd7DKj9KFHpzOGkvmFIlOIWMfICyio9MfBQHN9SdVHGVOWOXGMJlaOghAsWCJgHh-RPZEEKwQq0kQMXUvA0CNoEeDL4c7TaGGRCf_Va78d3OU0_P2JaDydifzaHJ4NQlhLePDwCJoT4PxhlEy7I0XX6lLx-ruzBP2vpdFI5KpztNjAdOg8LM6Kq-i28o2FG1ffDBA8yq2McAb-RBBwBbqzbkDDAjBeeETCYbAPhLfDzHpS0nNAaN80-9Mu6mHHTCTl-A=s64",
      "userId": "16390917540151948122"
     },
     "user_tz": -330
    },
    "id": "H5EuXk6vHs6F"
   },
   "outputs": [],
   "source": [
    "import numpy as np\n",
    "import matplotlib.pyplot as plt\n",
    "import pandas as pd"
   ]
  },
  {
   "cell_type": "markdown",
   "metadata": {
    "id": "ukNpho2tGIj8"
   },
   "source": [
    "## Data Set Import"
   ]
  },
  {
   "cell_type": "code",
   "execution_count": 2,
   "metadata": {
    "executionInfo": {
     "elapsed": 742,
     "status": "ok",
     "timestamp": 1611910257490,
     "user": {
      "displayName": "Atulya Kaushik",
      "photoUrl": "https://lh3.googleusercontent.com/a-/AOh14Gh44VkWPCXPcm-gl3w36wzgNlWsl6r_eNiIJ6OMht4QNKLcdlB20mX52ms2Nz_WeiDf1P2sRzD1ZTXle1eO-LrlhdvLudzr4nZ4wlCzMLrCBdIeIj9qShGMzKWVD3uOlt61Ddk6Pqh4RIz0pD48n6nKF_azJ8w6g5Oc9ygHZJj8WnXvJ6nULa2JEekJ08637iso_GxWGokfehu8UILm2O9iE1ZcjxfCTIrxUvEGqK9RKCL0OXifYCJ8lbkd6Yl-tAIGp15KYVSYKVXBR_a5g3VZI20qPEriWHHFgf9Wj_W7MFgvWiMOMvVQiOX_gJMJ40cj8xR5aWmXPnUjh9NuxPyARpANTzgxHB7817LRfrbUSTiVcio1AfoSDlxer-bLi_I6YFCZNc9XqI6abQMs6maWAmfxVr9A80imVnjJk_LyRDF5VdlYnws70ZBqVymSVajOecosBL8cZavPB6tprpbeeDQSy4XqyqE9r9PFVHSi0xFH_jCW5pFf1bFMvN7zi9Gd7DKj9KFHpzOGkvmFIlOIWMfICyio9MfBQHN9SdVHGVOWOXGMJlaOghAsWCJgHh-RPZEEKwQq0kQMXUvA0CNoEeDL4c7TaGGRCf_Va78d3OU0_P2JaDydifzaHJ4NQlhLePDwCJoT4PxhlEy7I0XX6lLx-ruzBP2vpdFI5KpztNjAdOg8LM6Kq-i28o2FG1ffDBA8yq2McAb-RBBwBbqzbkDDAjBeeETCYbAPhLfDzHpS0nNAaN80-9Mu6mHHTCTl-A=s64",
      "userId": "16390917540151948122"
     },
     "user_tz": -330
    },
    "id": "qr8FwG0CIJtW"
   },
   "outputs": [],
   "source": [
    "data_set = pd.read_csv('CCPP.csv')\n",
    "X = data_set.iloc[:, :-1].values\n",
    "y = data_set.iloc[:, -1].values"
   ]
  },
  {
   "cell_type": "markdown",
   "metadata": {
    "id": "_ME70lO_GJ4Q"
   },
   "source": [
    "## Splitting the dataset into the Training & Test set"
   ]
  },
  {
   "cell_type": "code",
   "execution_count": 3,
   "metadata": {
    "executionInfo": {
     "elapsed": 2073,
     "status": "ok",
     "timestamp": 1611910261529,
     "user": {
      "displayName": "Atulya Kaushik",
      "photoUrl": "https://lh3.googleusercontent.com/a-/AOh14Gh44VkWPCXPcm-gl3w36wzgNlWsl6r_eNiIJ6OMht4QNKLcdlB20mX52ms2Nz_WeiDf1P2sRzD1ZTXle1eO-LrlhdvLudzr4nZ4wlCzMLrCBdIeIj9qShGMzKWVD3uOlt61Ddk6Pqh4RIz0pD48n6nKF_azJ8w6g5Oc9ygHZJj8WnXvJ6nULa2JEekJ08637iso_GxWGokfehu8UILm2O9iE1ZcjxfCTIrxUvEGqK9RKCL0OXifYCJ8lbkd6Yl-tAIGp15KYVSYKVXBR_a5g3VZI20qPEriWHHFgf9Wj_W7MFgvWiMOMvVQiOX_gJMJ40cj8xR5aWmXPnUjh9NuxPyARpANTzgxHB7817LRfrbUSTiVcio1AfoSDlxer-bLi_I6YFCZNc9XqI6abQMs6maWAmfxVr9A80imVnjJk_LyRDF5VdlYnws70ZBqVymSVajOecosBL8cZavPB6tprpbeeDQSy4XqyqE9r9PFVHSi0xFH_jCW5pFf1bFMvN7zi9Gd7DKj9KFHpzOGkvmFIlOIWMfICyio9MfBQHN9SdVHGVOWOXGMJlaOghAsWCJgHh-RPZEEKwQq0kQMXUvA0CNoEeDL4c7TaGGRCf_Va78d3OU0_P2JaDydifzaHJ4NQlhLePDwCJoT4PxhlEy7I0XX6lLx-ruzBP2vpdFI5KpztNjAdOg8LM6Kq-i28o2FG1ffDBA8yq2McAb-RBBwBbqzbkDDAjBeeETCYbAPhLfDzHpS0nNAaN80-9Mu6mHHTCTl-A=s64",
      "userId": "16390917540151948122"
     },
     "user_tz": -330
    },
    "id": "K7Jk9SWqIN50"
   },
   "outputs": [],
   "source": [
    "from sklearn.model_selection import train_test_split\n",
    "X_train, X_test, y_train, y_test = train_test_split(X, y, test_size = 0.2, random_state = 0)"
   ]
  },
  {
   "cell_type": "markdown",
   "metadata": {
    "id": "pwhSjXpQGM_2"
   },
   "source": [
    "## Multiple Linear Regression model Training on the Training set"
   ]
  },
  {
   "cell_type": "code",
   "execution_count": 4,
   "metadata": {
    "colab": {
     "base_uri": "https://localhost:8080/"
    },
    "executionInfo": {
     "elapsed": 1354,
     "status": "ok",
     "timestamp": 1611910263342,
     "user": {
      "displayName": "Atulya Kaushik",
      "photoUrl": "https://lh3.googleusercontent.com/a-/AOh14Gh44VkWPCXPcm-gl3w36wzgNlWsl6r_eNiIJ6OMht4QNKLcdlB20mX52ms2Nz_WeiDf1P2sRzD1ZTXle1eO-LrlhdvLudzr4nZ4wlCzMLrCBdIeIj9qShGMzKWVD3uOlt61Ddk6Pqh4RIz0pD48n6nKF_azJ8w6g5Oc9ygHZJj8WnXvJ6nULa2JEekJ08637iso_GxWGokfehu8UILm2O9iE1ZcjxfCTIrxUvEGqK9RKCL0OXifYCJ8lbkd6Yl-tAIGp15KYVSYKVXBR_a5g3VZI20qPEriWHHFgf9Wj_W7MFgvWiMOMvVQiOX_gJMJ40cj8xR5aWmXPnUjh9NuxPyARpANTzgxHB7817LRfrbUSTiVcio1AfoSDlxer-bLi_I6YFCZNc9XqI6abQMs6maWAmfxVr9A80imVnjJk_LyRDF5VdlYnws70ZBqVymSVajOecosBL8cZavPB6tprpbeeDQSy4XqyqE9r9PFVHSi0xFH_jCW5pFf1bFMvN7zi9Gd7DKj9KFHpzOGkvmFIlOIWMfICyio9MfBQHN9SdVHGVOWOXGMJlaOghAsWCJgHh-RPZEEKwQq0kQMXUvA0CNoEeDL4c7TaGGRCf_Va78d3OU0_P2JaDydifzaHJ4NQlhLePDwCJoT4PxhlEy7I0XX6lLx-ruzBP2vpdFI5KpztNjAdOg8LM6Kq-i28o2FG1ffDBA8yq2McAb-RBBwBbqzbkDDAjBeeETCYbAPhLfDzHpS0nNAaN80-9Mu6mHHTCTl-A=s64",
      "userId": "16390917540151948122"
     },
     "user_tz": -330
    },
    "id": "elZ40vL2IQpi",
    "outputId": "e7e84785-09d7-4d37-f902-b7f755dec295"
   },
   "outputs": [
    {
     "data": {
      "text/plain": [
       "LinearRegression(copy_X=True, fit_intercept=True, n_jobs=None, normalize=False)"
      ]
     },
     "execution_count": 4,
     "metadata": {
      "tags": []
     },
     "output_type": "execute_result"
    }
   ],
   "source": [
    "from sklearn.linear_model import LinearRegression\n",
    "regressor = LinearRegression()\n",
    "regressor.fit(X_train, y_train)"
   ]
  },
  {
   "cell_type": "markdown",
   "metadata": {
    "id": "k1ZEA16lGSnN"
   },
   "source": [
    "## Test set results Predictions"
   ]
  },
  {
   "cell_type": "code",
   "execution_count": 5,
   "metadata": {
    "colab": {
     "base_uri": "https://localhost:8080/"
    },
    "executionInfo": {
     "elapsed": 1122,
     "status": "ok",
     "timestamp": 1611910265436,
     "user": {
      "displayName": "Atulya Kaushik",
      "photoUrl": "https://lh3.googleusercontent.com/a-/AOh14Gh44VkWPCXPcm-gl3w36wzgNlWsl6r_eNiIJ6OMht4QNKLcdlB20mX52ms2Nz_WeiDf1P2sRzD1ZTXle1eO-LrlhdvLudzr4nZ4wlCzMLrCBdIeIj9qShGMzKWVD3uOlt61Ddk6Pqh4RIz0pD48n6nKF_azJ8w6g5Oc9ygHZJj8WnXvJ6nULa2JEekJ08637iso_GxWGokfehu8UILm2O9iE1ZcjxfCTIrxUvEGqK9RKCL0OXifYCJ8lbkd6Yl-tAIGp15KYVSYKVXBR_a5g3VZI20qPEriWHHFgf9Wj_W7MFgvWiMOMvVQiOX_gJMJ40cj8xR5aWmXPnUjh9NuxPyARpANTzgxHB7817LRfrbUSTiVcio1AfoSDlxer-bLi_I6YFCZNc9XqI6abQMs6maWAmfxVr9A80imVnjJk_LyRDF5VdlYnws70ZBqVymSVajOecosBL8cZavPB6tprpbeeDQSy4XqyqE9r9PFVHSi0xFH_jCW5pFf1bFMvN7zi9Gd7DKj9KFHpzOGkvmFIlOIWMfICyio9MfBQHN9SdVHGVOWOXGMJlaOghAsWCJgHh-RPZEEKwQq0kQMXUvA0CNoEeDL4c7TaGGRCf_Va78d3OU0_P2JaDydifzaHJ4NQlhLePDwCJoT4PxhlEy7I0XX6lLx-ruzBP2vpdFI5KpztNjAdOg8LM6Kq-i28o2FG1ffDBA8yq2McAb-RBBwBbqzbkDDAjBeeETCYbAPhLfDzHpS0nNAaN80-9Mu6mHHTCTl-A=s64",
      "userId": "16390917540151948122"
     },
     "user_tz": -330
    },
    "id": "h_0ed1oFISdf",
    "outputId": "bf534cde-ad7d-4d54-d263-3fda80d6449e"
   },
   "outputs": [
    {
     "name": "stdout",
     "output_type": "stream",
     "text": [
      "[[431.43 431.23]\n",
      " [458.56 460.01]\n",
      " [462.75 461.14]\n",
      " ...\n",
      " [469.52 473.26]\n",
      " [442.42 438.  ]\n",
      " [461.88 463.28]]\n"
     ]
    }
   ],
   "source": [
    "y_pred = regressor.predict(X_test)\n",
    "np.set_printoptions(precision=2)\n",
    "print(np.concatenate((y_pred.reshape(len(y_pred),1), y_test.reshape(len(y_test),1)),1))"
   ]
  },
  {
   "cell_type": "markdown",
   "metadata": {
    "id": "aQl2P-bkGVfG"
   },
   "source": [
    "## Model Performance Evaluation"
   ]
  },
  {
   "cell_type": "code",
   "execution_count": 6,
   "metadata": {
    "colab": {
     "base_uri": "https://localhost:8080/"
    },
    "executionInfo": {
     "elapsed": 1109,
     "status": "ok",
     "timestamp": 1611910267923,
     "user": {
      "displayName": "Atulya Kaushik",
      "photoUrl": "https://lh3.googleusercontent.com/a-/AOh14Gh44VkWPCXPcm-gl3w36wzgNlWsl6r_eNiIJ6OMht4QNKLcdlB20mX52ms2Nz_WeiDf1P2sRzD1ZTXle1eO-LrlhdvLudzr4nZ4wlCzMLrCBdIeIj9qShGMzKWVD3uOlt61Ddk6Pqh4RIz0pD48n6nKF_azJ8w6g5Oc9ygHZJj8WnXvJ6nULa2JEekJ08637iso_GxWGokfehu8UILm2O9iE1ZcjxfCTIrxUvEGqK9RKCL0OXifYCJ8lbkd6Yl-tAIGp15KYVSYKVXBR_a5g3VZI20qPEriWHHFgf9Wj_W7MFgvWiMOMvVQiOX_gJMJ40cj8xR5aWmXPnUjh9NuxPyARpANTzgxHB7817LRfrbUSTiVcio1AfoSDlxer-bLi_I6YFCZNc9XqI6abQMs6maWAmfxVr9A80imVnjJk_LyRDF5VdlYnws70ZBqVymSVajOecosBL8cZavPB6tprpbeeDQSy4XqyqE9r9PFVHSi0xFH_jCW5pFf1bFMvN7zi9Gd7DKj9KFHpzOGkvmFIlOIWMfICyio9MfBQHN9SdVHGVOWOXGMJlaOghAsWCJgHh-RPZEEKwQq0kQMXUvA0CNoEeDL4c7TaGGRCf_Va78d3OU0_P2JaDydifzaHJ4NQlhLePDwCJoT4PxhlEy7I0XX6lLx-ruzBP2vpdFI5KpztNjAdOg8LM6Kq-i28o2FG1ffDBA8yq2McAb-RBBwBbqzbkDDAjBeeETCYbAPhLfDzHpS0nNAaN80-9Mu6mHHTCTl-A=s64",
      "userId": "16390917540151948122"
     },
     "user_tz": -330
    },
    "id": "-HnAr6FiIUYo",
    "outputId": "3abce79f-48c5-49b2-891f-740f1218e801"
   },
   "outputs": [
    {
     "data": {
      "text/plain": [
       "0.9325315554761302"
      ]
     },
     "execution_count": 6,
     "metadata": {
      "tags": []
     },
     "output_type": "execute_result"
    }
   ],
   "source": [
    "from sklearn.metrics import r2_score\n",
    "r2_score(y_test, y_pred)"
   ]
  }
 ],
 "metadata": {
  "colab": {
   "authorship_tag": "ABX9TyNy1TxKD0CqQKAnELu1SFzJ",
   "name": "Multiple Linear Regression.ipynb",
   "provenance": [],
   "toc_visible": true
  },
  "kernelspec": {
   "display_name": "Python 3 (ipykernel)",
   "language": "python",
   "name": "python3"
  },
  "language_info": {
   "codemirror_mode": {
    "name": "ipython",
    "version": 3
   },
   "file_extension": ".py",
   "mimetype": "text/x-python",
   "name": "python",
   "nbconvert_exporter": "python",
   "pygments_lexer": "ipython3",
   "version": "3.10.11"
  }
 },
 "nbformat": 4,
 "nbformat_minor": 1
}
